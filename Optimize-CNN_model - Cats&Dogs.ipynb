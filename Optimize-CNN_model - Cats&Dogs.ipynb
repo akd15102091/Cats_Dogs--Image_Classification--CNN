{
 "cells": [
  {
   "cell_type": "code",
   "execution_count": 1,
   "metadata": {
    "scrolled": true
   },
   "outputs": [
    {
     "name": "stdout",
     "output_type": "stream",
     "text": [
      "Requirement already satisfied: keras-tuner in /home/dhakad/anaconda3/lib/python3.8/site-packages (1.0.2)\n",
      "Requirement already satisfied: terminaltables in /home/dhakad/anaconda3/lib/python3.8/site-packages (from keras-tuner) (3.1.0)\n",
      "Requirement already satisfied: tabulate in /home/dhakad/anaconda3/lib/python3.8/site-packages (from keras-tuner) (0.8.9)\n",
      "Requirement already satisfied: scipy in /home/dhakad/anaconda3/lib/python3.8/site-packages (from keras-tuner) (1.5.2)\n",
      "Requirement already satisfied: colorama in /home/dhakad/anaconda3/lib/python3.8/site-packages (from keras-tuner) (0.4.4)\n",
      "Requirement already satisfied: tqdm in /home/dhakad/anaconda3/lib/python3.8/site-packages (from keras-tuner) (4.50.2)\n",
      "Requirement already satisfied: scikit-learn in /home/dhakad/anaconda3/lib/python3.8/site-packages (from keras-tuner) (0.23.2)\n",
      "Requirement already satisfied: requests in /home/dhakad/anaconda3/lib/python3.8/site-packages (from keras-tuner) (2.24.0)\n",
      "Requirement already satisfied: numpy in /home/dhakad/anaconda3/lib/python3.8/site-packages (from keras-tuner) (1.19.2)\n",
      "Requirement already satisfied: packaging in /home/dhakad/anaconda3/lib/python3.8/site-packages (from keras-tuner) (20.4)\n",
      "Requirement already satisfied: future in /home/dhakad/anaconda3/lib/python3.8/site-packages (from keras-tuner) (0.18.2)\n",
      "Requirement already satisfied: threadpoolctl>=2.0.0 in /home/dhakad/anaconda3/lib/python3.8/site-packages (from scikit-learn->keras-tuner) (2.1.0)\n",
      "Requirement already satisfied: joblib>=0.11 in /home/dhakad/anaconda3/lib/python3.8/site-packages (from scikit-learn->keras-tuner) (0.17.0)\n",
      "Requirement already satisfied: urllib3!=1.25.0,!=1.25.1,<1.26,>=1.21.1 in /home/dhakad/anaconda3/lib/python3.8/site-packages (from requests->keras-tuner) (1.25.11)\n",
      "Requirement already satisfied: idna<3,>=2.5 in /home/dhakad/anaconda3/lib/python3.8/site-packages (from requests->keras-tuner) (2.10)\n",
      "Requirement already satisfied: chardet<4,>=3.0.2 in /home/dhakad/anaconda3/lib/python3.8/site-packages (from requests->keras-tuner) (3.0.4)\n",
      "Requirement already satisfied: certifi>=2017.4.17 in /home/dhakad/anaconda3/lib/python3.8/site-packages (from requests->keras-tuner) (2020.6.20)\n",
      "Requirement already satisfied: pyparsing>=2.0.2 in /home/dhakad/anaconda3/lib/python3.8/site-packages (from packaging->keras-tuner) (2.4.7)\n",
      "Requirement already satisfied: six in /home/dhakad/anaconda3/lib/python3.8/site-packages (from packaging->keras-tuner) (1.15.0)\n"
     ]
    }
   ],
   "source": [
    "!pip install keras-tuner"
   ]
  },
  {
   "cell_type": "code",
   "execution_count": 1,
   "metadata": {},
   "outputs": [],
   "source": [
    "import tensorflow as tf\n",
    "from tensorflow import keras\n",
    "import numpy as np"
   ]
  },
  {
   "cell_type": "code",
   "execution_count": 2,
   "metadata": {},
   "outputs": [
    {
     "name": "stdout",
     "output_type": "stream",
     "text": [
      "2.4.1\n"
     ]
    }
   ],
   "source": [
    "print(tf.__version__)"
   ]
  },
  {
   "cell_type": "code",
   "execution_count": 3,
   "metadata": {},
   "outputs": [],
   "source": [
    "import pickle\n",
    "\n",
    "X = pickle.load(open(\"X.pickle\",\"rb\"))\n",
    "y = pickle.load(open(\"y.pickle\",\"rb\"))"
   ]
  },
  {
   "cell_type": "code",
   "execution_count": 4,
   "metadata": {},
   "outputs": [],
   "source": [
    "X = X/255.0"
   ]
  },
  {
   "cell_type": "code",
   "execution_count": 5,
   "metadata": {},
   "outputs": [],
   "source": [
    "import numpy as np\n",
    "\n",
    "X1 = np.array(X)\n",
    "y1 = np.array(y)"
   ]
  },
  {
   "cell_type": "code",
   "execution_count": 6,
   "metadata": {},
   "outputs": [
    {
     "data": {
      "text/plain": [
       "(50, 50, 1)"
      ]
     },
     "execution_count": 6,
     "metadata": {},
     "output_type": "execute_result"
    }
   ],
   "source": [
    "X.shape[1:]"
   ]
  },
  {
   "cell_type": "code",
   "execution_count": 7,
   "metadata": {},
   "outputs": [],
   "source": [
    "from tensorflow.keras.models import Sequential\n",
    "from tensorflow.keras.layers import Dense, Dropout, Activation, Flatten, Conv2D, MaxPooling2D"
   ]
  },
  {
   "cell_type": "code",
   "execution_count": 75,
   "metadata": {},
   "outputs": [],
   "source": [
    "def build_model(hp) :\n",
    "    model = Sequential()\n",
    "\n",
    "    model.add(Conv2D(filters = hp.Int('conv_1_filter', min_value=40,max_value=200, step=8),\n",
    "                               strides = (2,2),\n",
    "                                kernel_size=hp.Choice('conv_1_kernel',values=[3,5]),\n",
    "                                activation='relu',input_shape=(50,50,1),\n",
    "                                 padding=\"same\"\n",
    "                            ))\n",
    "    model.add(MaxPooling2D(pool_size=(2,2)))\n",
    "    \n",
    "    model.add(Conv2D(filters = hp.Int('conv_2_filter', min_value=30, max_value=100, step=10),\n",
    "                                 strides =(2,2),\n",
    "                                kernel_size=hp.Choice('conv_2_kernel',values=[3,5]),\n",
    "                                activation='relu',padding=\"same\"\n",
    "                            ))\n",
    "    model.add(MaxPooling2D(pool_size=(2,2)))\n",
    "    \n",
    "    model.add(Flatten())\n",
    "\n",
    "    model.add(Dense(units = hp.Int('units', min_value=32,max_value=200, step=20)))\n",
    "    model.add(Activation('relu'))\n",
    "    model.add(Dropout(0.7))\n",
    "    model.add(Dense(1))\n",
    "    model.add(Activation(\"sigmoid\"))\n",
    "  \n",
    "    model.compile(optimizer=keras.optimizers.Adam(hp.Choice(\"learning_rate\",values=[1e-1,1e-2,1e-3,1e-4])),\n",
    "                loss=\"binary_crossentropy\", metrics=[\"accuracy\"])\n",
    "  \n",
    "    return model\n",
    "  "
   ]
  },
  {
   "cell_type": "code",
   "execution_count": 76,
   "metadata": {},
   "outputs": [],
   "source": [
    "from kerastuner import RandomSearch\n",
    "from kerastuner.engine.hyperparameters import HyperParameters"
   ]
  },
  {
   "cell_type": "code",
   "execution_count": 77,
   "metadata": {},
   "outputs": [],
   "source": [
    "tuner_Search = RandomSearch(build_model, \n",
    "                            objective=\"val_accuracy\", max_trials=5, \n",
    "                            directory=\"output6\", project_name=\"cat-dogs\" )"
   ]
  },
  {
   "cell_type": "code",
   "execution_count": 78,
   "metadata": {},
   "outputs": [
    {
     "name": "stdout",
     "output_type": "stream",
     "text": [
      "Trial 5 Complete [00h 03m 18s]\n",
      "val_accuracy: 0.5086172223091125\n",
      "\n",
      "Best val_accuracy So Far: 0.7631262540817261\n",
      "Total elapsed time: 00h 19m 42s\n",
      "INFO:tensorflow:Oracle triggered exit\n"
     ]
    }
   ],
   "source": [
    "tuner_Search.search(X1,y1, epochs=10,batch_size=32, validation_split=0.1)"
   ]
  },
  {
   "cell_type": "code",
   "execution_count": 79,
   "metadata": {},
   "outputs": [
    {
     "name": "stdout",
     "output_type": "stream",
     "text": [
      "<bound method BaseTuner.get_best_hyperparameters of <kerastuner.tuners.randomsearch.RandomSearch object at 0x7fc0486648b0>>\n"
     ]
    }
   ],
   "source": [
    "print(tuner_Search.get_best_hyperparameters)"
   ]
  },
  {
   "cell_type": "code",
   "execution_count": 82,
   "metadata": {},
   "outputs": [],
   "source": [
    "best_model = tuner_Search.get_best_models"
   ]
  },
  {
   "cell_type": "code",
   "execution_count": null,
   "metadata": {},
   "outputs": [],
   "source": []
  },
  {
   "cell_type": "code",
   "execution_count": null,
   "metadata": {},
   "outputs": [],
   "source": []
  },
  {
   "cell_type": "code",
   "execution_count": null,
   "metadata": {},
   "outputs": [],
   "source": [
    "# def build_model(hp) :\n",
    "#     model = Sequential()\n",
    "\n",
    "#     model.add(Conv2D(filters = hp.Int('conv_1_filter', min_value=32,max_value=128, step=8),\n",
    "#                                strides = (2,2),\n",
    "#                                 kernel_size=hp.Choice('conv_1_kernel',values=[3,5]),\n",
    "#                                 activation='relu',input_shape=(50,50,1),\n",
    "#                                  padding=\"same\"\n",
    "#                             ))\n",
    "#     model.add(MaxPooling2D(pool_size=(2,2)))\n",
    "    \n",
    "#     model.add(Conv2D(filters = hp.Int('conv_2_filter', min_value=26, max_value=64, step=8),\n",
    "#                                  strides =(2,2),\n",
    "#                                 kernel_size=hp.Choice('conv_2_kernel',values=[3,5]),\n",
    "#                                 activation='relu',padding=\"same\"\n",
    "#                             ))\n",
    "#     model.add(MaxPooling2D(pool_size=(2,2)))\n",
    "    \n",
    "#     model.add(Flatten())\n",
    "\n",
    "#     model.add(Dense(units = hp.Int('units', min_value=32,max_value=200, step=20)))\n",
    "#     model.add(Activation('relu'))\n",
    "#     model.add(Dropout(0.5))\n",
    "#     model.add(Dense(1))\n",
    "#     model.add(Activation(\"sigmoid\"))\n",
    "  \n",
    "#     model.compile(optimizer=keras.optimizers.Adam(hp.Choice(\"learning_rate\",values=[1e-1,1e-2,1e-3,1e-4])),\n",
    "#                 loss=\"binary_crossentropy\", metrics=[\"accuracy\"])\n",
    "  \n",
    "#     return model\n",
    "  "
   ]
  }
 ],
 "metadata": {
  "kernelspec": {
   "display_name": "Python 3",
   "language": "python",
   "name": "python3"
  },
  "language_info": {
   "codemirror_mode": {
    "name": "ipython",
    "version": 3
   },
   "file_extension": ".py",
   "mimetype": "text/x-python",
   "name": "python",
   "nbconvert_exporter": "python",
   "pygments_lexer": "ipython3",
   "version": "3.8.5"
  }
 },
 "nbformat": 4,
 "nbformat_minor": 4
}
